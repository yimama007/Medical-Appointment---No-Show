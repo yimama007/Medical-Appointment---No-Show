{
 "cells": [
  {
   "cell_type": "markdown",
   "id": "f473db98-3ee5-4c26-a7b7-3c5f9c446f6e",
   "metadata": {},
   "source": [
    "## Project: Investigate a Dataset - [Medical Appointment No Shows]"
   ]
  },
  {
   "cell_type": "markdown",
   "id": "ac74115e-63fa-4e77-9d81-55ba52597daf",
   "metadata": {},
   "source": [
    "### Dataset Description"
   ]
  },
  {
   "cell_type": "markdown",
   "id": "d9c5813d-588d-4b7e-a9ca-cafa802e7985",
   "metadata": {},
   "source": [
    "The following dataset \"Medical Appointment No Shows\" consist of 110,527 rows of data and 14 variables detailing patients' characteristics and more importantly whether they show up to a medical appointment or not in Brazil.\n",
    "\n",
    "The 14 variables (columns/characteristics) provided in the dataset are the following:\n",
    "1. PatientId - unique identification of a patient\n",
    "2. AppointmentID - unique identification of an appointment\n",
    "3. Gender - binary identifier of a patient's gender (Male / Female)\n",
    "4. ScheduledDay - date that someone called/registered to setup an appointment\n",
    "5. AppointmentDay - actual date the appointment is scheduled and expected for patient to attend\n",
    "6. Age - numerical value representing how old the patient is\n",
    "7. Neighbourhood - location where the appointment takes place\n",
    "8. Scholarship - binary identifier of whether a patient is enrolled in the  \"Bolsa Familia\" social welfare program in Brazil\n",
    "9. Hipertension - binary identifier indicating whether a patient has hypertension (True / False)\n",
    "10. Diabetes - binary identifier indicating whether a patient has diabetes (True / False)\n",
    "11. Alcoholism - binary identifier indicating whether a patient is an alcoholic (True / False)\n",
    "12. Handcap - binary identifier indicating whether a patient is handicap (True / False)\n",
    "13. SMS_received - binary identifier indicating whether a patient received any messages reminding them of their appointment (True / False)\n",
    "14. No-show - binary identifier indicating whether a patient showed up for their appointment (True / False)"
   ]
  },
  {
   "cell_type": "markdown",
   "id": "0f276169-6c03-4259-86b3-a636f1fe0783",
   "metadata": {},
   "source": [
    "### Data Wrangling"
   ]
  },
  {
   "cell_type": "markdown",
   "id": "4112cd17-9377-4475-a93a-a0dd49e731f7",
   "metadata": {},
   "source": [
    "In this section of the report, I will import my packages, load in the data, check for cleanliness, and then trim and clean the dataset for analysis."
   ]
  },
  {
   "cell_type": "code",
   "execution_count": 1,
   "id": "d6ac428c-8df7-456e-8745-1c92f1d1303b",
   "metadata": {},
   "outputs": [],
   "source": [
    "# Import packages that will be used\n",
    "import pandas as pd\n",
    "import numpy as np\n",
    "import seaborn as sns"
   ]
  },
  {
   "cell_type": "code",
   "execution_count": 2,
   "id": "b6c68783-fe53-4065-9993-bd307a21c3f0",
   "metadata": {},
   "outputs": [
    {
     "data": {
      "text/html": [
       "<div>\n",
       "<style scoped>\n",
       "    .dataframe tbody tr th:only-of-type {\n",
       "        vertical-align: middle;\n",
       "    }\n",
       "\n",
       "    .dataframe tbody tr th {\n",
       "        vertical-align: top;\n",
       "    }\n",
       "\n",
       "    .dataframe thead th {\n",
       "        text-align: right;\n",
       "    }\n",
       "</style>\n",
       "<table border=\"1\" class=\"dataframe\">\n",
       "  <thead>\n",
       "    <tr style=\"text-align: right;\">\n",
       "      <th></th>\n",
       "      <th>PatientId</th>\n",
       "      <th>AppointmentID</th>\n",
       "      <th>Gender</th>\n",
       "      <th>ScheduledDay</th>\n",
       "      <th>AppointmentDay</th>\n",
       "      <th>Age</th>\n",
       "      <th>Neighbourhood</th>\n",
       "      <th>Scholarship</th>\n",
       "      <th>Hipertension</th>\n",
       "      <th>Diabetes</th>\n",
       "      <th>Alcoholism</th>\n",
       "      <th>Handcap</th>\n",
       "      <th>SMS_received</th>\n",
       "      <th>No-show</th>\n",
       "    </tr>\n",
       "  </thead>\n",
       "  <tbody>\n",
       "    <tr>\n",
       "      <th>0</th>\n",
       "      <td>2.987250e+13</td>\n",
       "      <td>5642903</td>\n",
       "      <td>F</td>\n",
       "      <td>2016-04-29T18:38:08Z</td>\n",
       "      <td>2016-04-29T00:00:00Z</td>\n",
       "      <td>62</td>\n",
       "      <td>JARDIM DA PENHA</td>\n",
       "      <td>0</td>\n",
       "      <td>1</td>\n",
       "      <td>0</td>\n",
       "      <td>0</td>\n",
       "      <td>0</td>\n",
       "      <td>0</td>\n",
       "      <td>No</td>\n",
       "    </tr>\n",
       "    <tr>\n",
       "      <th>1</th>\n",
       "      <td>5.589978e+14</td>\n",
       "      <td>5642503</td>\n",
       "      <td>M</td>\n",
       "      <td>2016-04-29T16:08:27Z</td>\n",
       "      <td>2016-04-29T00:00:00Z</td>\n",
       "      <td>56</td>\n",
       "      <td>JARDIM DA PENHA</td>\n",
       "      <td>0</td>\n",
       "      <td>0</td>\n",
       "      <td>0</td>\n",
       "      <td>0</td>\n",
       "      <td>0</td>\n",
       "      <td>0</td>\n",
       "      <td>No</td>\n",
       "    </tr>\n",
       "    <tr>\n",
       "      <th>2</th>\n",
       "      <td>4.262962e+12</td>\n",
       "      <td>5642549</td>\n",
       "      <td>F</td>\n",
       "      <td>2016-04-29T16:19:04Z</td>\n",
       "      <td>2016-04-29T00:00:00Z</td>\n",
       "      <td>62</td>\n",
       "      <td>MATA DA PRAIA</td>\n",
       "      <td>0</td>\n",
       "      <td>0</td>\n",
       "      <td>0</td>\n",
       "      <td>0</td>\n",
       "      <td>0</td>\n",
       "      <td>0</td>\n",
       "      <td>No</td>\n",
       "    </tr>\n",
       "    <tr>\n",
       "      <th>3</th>\n",
       "      <td>8.679512e+11</td>\n",
       "      <td>5642828</td>\n",
       "      <td>F</td>\n",
       "      <td>2016-04-29T17:29:31Z</td>\n",
       "      <td>2016-04-29T00:00:00Z</td>\n",
       "      <td>8</td>\n",
       "      <td>PONTAL DE CAMBURI</td>\n",
       "      <td>0</td>\n",
       "      <td>0</td>\n",
       "      <td>0</td>\n",
       "      <td>0</td>\n",
       "      <td>0</td>\n",
       "      <td>0</td>\n",
       "      <td>No</td>\n",
       "    </tr>\n",
       "    <tr>\n",
       "      <th>4</th>\n",
       "      <td>8.841186e+12</td>\n",
       "      <td>5642494</td>\n",
       "      <td>F</td>\n",
       "      <td>2016-04-29T16:07:23Z</td>\n",
       "      <td>2016-04-29T00:00:00Z</td>\n",
       "      <td>56</td>\n",
       "      <td>JARDIM DA PENHA</td>\n",
       "      <td>0</td>\n",
       "      <td>1</td>\n",
       "      <td>1</td>\n",
       "      <td>0</td>\n",
       "      <td>0</td>\n",
       "      <td>0</td>\n",
       "      <td>No</td>\n",
       "    </tr>\n",
       "  </tbody>\n",
       "</table>\n",
       "</div>"
      ],
      "text/plain": [
       "      PatientId  AppointmentID Gender          ScheduledDay  \\\n",
       "0  2.987250e+13        5642903      F  2016-04-29T18:38:08Z   \n",
       "1  5.589978e+14        5642503      M  2016-04-29T16:08:27Z   \n",
       "2  4.262962e+12        5642549      F  2016-04-29T16:19:04Z   \n",
       "3  8.679512e+11        5642828      F  2016-04-29T17:29:31Z   \n",
       "4  8.841186e+12        5642494      F  2016-04-29T16:07:23Z   \n",
       "\n",
       "         AppointmentDay  Age      Neighbourhood  Scholarship  Hipertension  \\\n",
       "0  2016-04-29T00:00:00Z   62    JARDIM DA PENHA            0             1   \n",
       "1  2016-04-29T00:00:00Z   56    JARDIM DA PENHA            0             0   \n",
       "2  2016-04-29T00:00:00Z   62      MATA DA PRAIA            0             0   \n",
       "3  2016-04-29T00:00:00Z    8  PONTAL DE CAMBURI            0             0   \n",
       "4  2016-04-29T00:00:00Z   56    JARDIM DA PENHA            0             1   \n",
       "\n",
       "   Diabetes  Alcoholism  Handcap  SMS_received No-show  \n",
       "0         0           0        0             0      No  \n",
       "1         0           0        0             0      No  \n",
       "2         0           0        0             0      No  \n",
       "3         0           0        0             0      No  \n",
       "4         1           0        0             0      No  "
      ]
     },
     "execution_count": 2,
     "metadata": {},
     "output_type": "execute_result"
    }
   ],
   "source": [
    "# Load dataset\n",
    "df = pd.read_csv('KaggleV2-May-2016.csv')\n",
    "df.head()"
   ]
  },
  {
   "cell_type": "markdown",
   "id": "f2d04c3a-a20f-4597-b714-1a209778d78b",
   "metadata": {},
   "source": [
    "### Assess Dataset"
   ]
  },
  {
   "cell_type": "code",
   "execution_count": 6,
   "id": "21acc31f-aabf-441b-98ff-a9fe2eedfa83",
   "metadata": {},
   "outputs": [
    {
     "name": "stdout",
     "output_type": "stream",
     "text": [
      "<class 'pandas.core.frame.DataFrame'>\n",
      "RangeIndex: 110527 entries, 0 to 110526\n",
      "Data columns (total 14 columns):\n",
      " #   Column          Non-Null Count   Dtype  \n",
      "---  ------          --------------   -----  \n",
      " 0   PatientId       110527 non-null  float64\n",
      " 1   AppointmentID   110527 non-null  int64  \n",
      " 2   Gender          110527 non-null  object \n",
      " 3   ScheduledDay    110527 non-null  object \n",
      " 4   AppointmentDay  110527 non-null  object \n",
      " 5   Age             110527 non-null  int64  \n",
      " 6   Neighbourhood   110527 non-null  object \n",
      " 7   Scholarship     110527 non-null  int64  \n",
      " 8   Hipertension    110527 non-null  int64  \n",
      " 9   Diabetes        110527 non-null  int64  \n",
      " 10  Alcoholism      110527 non-null  int64  \n",
      " 11  Handcap         110527 non-null  int64  \n",
      " 12  SMS_received    110527 non-null  int64  \n",
      " 13  No-show         110527 non-null  object \n",
      "dtypes: float64(1), int64(8), object(5)\n",
      "memory usage: 11.8+ MB\n"
     ]
    }
   ],
   "source": [
    "# Inspect data type of the columns\n",
    "df.info()"
   ]
  },
  {
   "cell_type": "code",
   "execution_count": 8,
   "id": "821a46ba-e4d9-480b-82e9-c3ff1eb9b27c",
   "metadata": {},
   "outputs": [
    {
     "data": {
      "text/html": [
       "<div>\n",
       "<style scoped>\n",
       "    .dataframe tbody tr th:only-of-type {\n",
       "        vertical-align: middle;\n",
       "    }\n",
       "\n",
       "    .dataframe tbody tr th {\n",
       "        vertical-align: top;\n",
       "    }\n",
       "\n",
       "    .dataframe thead th {\n",
       "        text-align: right;\n",
       "    }\n",
       "</style>\n",
       "<table border=\"1\" class=\"dataframe\">\n",
       "  <thead>\n",
       "    <tr style=\"text-align: right;\">\n",
       "      <th></th>\n",
       "      <th>PatientId</th>\n",
       "      <th>AppointmentID</th>\n",
       "      <th>Gender</th>\n",
       "      <th>ScheduledDay</th>\n",
       "      <th>AppointmentDay</th>\n",
       "      <th>Age</th>\n",
       "      <th>Neighbourhood</th>\n",
       "      <th>Scholarship</th>\n",
       "      <th>Hipertension</th>\n",
       "      <th>Diabetes</th>\n",
       "      <th>Alcoholism</th>\n",
       "      <th>Handcap</th>\n",
       "      <th>SMS_received</th>\n",
       "      <th>No-show</th>\n",
       "    </tr>\n",
       "  </thead>\n",
       "  <tbody>\n",
       "    <tr>\n",
       "      <th>count</th>\n",
       "      <td>1.105270e+05</td>\n",
       "      <td>1.105270e+05</td>\n",
       "      <td>110527</td>\n",
       "      <td>110527</td>\n",
       "      <td>110527</td>\n",
       "      <td>110527.000000</td>\n",
       "      <td>110527</td>\n",
       "      <td>110527.000000</td>\n",
       "      <td>110527.000000</td>\n",
       "      <td>110527.000000</td>\n",
       "      <td>110527.000000</td>\n",
       "      <td>110527.000000</td>\n",
       "      <td>110527.000000</td>\n",
       "      <td>110527</td>\n",
       "    </tr>\n",
       "    <tr>\n",
       "      <th>unique</th>\n",
       "      <td>NaN</td>\n",
       "      <td>NaN</td>\n",
       "      <td>2</td>\n",
       "      <td>103549</td>\n",
       "      <td>27</td>\n",
       "      <td>NaN</td>\n",
       "      <td>81</td>\n",
       "      <td>NaN</td>\n",
       "      <td>NaN</td>\n",
       "      <td>NaN</td>\n",
       "      <td>NaN</td>\n",
       "      <td>NaN</td>\n",
       "      <td>NaN</td>\n",
       "      <td>2</td>\n",
       "    </tr>\n",
       "    <tr>\n",
       "      <th>top</th>\n",
       "      <td>NaN</td>\n",
       "      <td>NaN</td>\n",
       "      <td>F</td>\n",
       "      <td>2016-05-06T07:09:54Z</td>\n",
       "      <td>2016-06-06T00:00:00Z</td>\n",
       "      <td>NaN</td>\n",
       "      <td>JARDIM CAMBURI</td>\n",
       "      <td>NaN</td>\n",
       "      <td>NaN</td>\n",
       "      <td>NaN</td>\n",
       "      <td>NaN</td>\n",
       "      <td>NaN</td>\n",
       "      <td>NaN</td>\n",
       "      <td>No</td>\n",
       "    </tr>\n",
       "    <tr>\n",
       "      <th>freq</th>\n",
       "      <td>NaN</td>\n",
       "      <td>NaN</td>\n",
       "      <td>71840</td>\n",
       "      <td>24</td>\n",
       "      <td>4692</td>\n",
       "      <td>NaN</td>\n",
       "      <td>7717</td>\n",
       "      <td>NaN</td>\n",
       "      <td>NaN</td>\n",
       "      <td>NaN</td>\n",
       "      <td>NaN</td>\n",
       "      <td>NaN</td>\n",
       "      <td>NaN</td>\n",
       "      <td>88208</td>\n",
       "    </tr>\n",
       "    <tr>\n",
       "      <th>mean</th>\n",
       "      <td>1.474963e+14</td>\n",
       "      <td>5.675305e+06</td>\n",
       "      <td>NaN</td>\n",
       "      <td>NaN</td>\n",
       "      <td>NaN</td>\n",
       "      <td>37.088874</td>\n",
       "      <td>NaN</td>\n",
       "      <td>0.098266</td>\n",
       "      <td>0.197246</td>\n",
       "      <td>0.071865</td>\n",
       "      <td>0.030400</td>\n",
       "      <td>0.022248</td>\n",
       "      <td>0.321026</td>\n",
       "      <td>NaN</td>\n",
       "    </tr>\n",
       "    <tr>\n",
       "      <th>std</th>\n",
       "      <td>2.560949e+14</td>\n",
       "      <td>7.129575e+04</td>\n",
       "      <td>NaN</td>\n",
       "      <td>NaN</td>\n",
       "      <td>NaN</td>\n",
       "      <td>23.110205</td>\n",
       "      <td>NaN</td>\n",
       "      <td>0.297675</td>\n",
       "      <td>0.397921</td>\n",
       "      <td>0.258265</td>\n",
       "      <td>0.171686</td>\n",
       "      <td>0.161543</td>\n",
       "      <td>0.466873</td>\n",
       "      <td>NaN</td>\n",
       "    </tr>\n",
       "    <tr>\n",
       "      <th>min</th>\n",
       "      <td>3.921784e+04</td>\n",
       "      <td>5.030230e+06</td>\n",
       "      <td>NaN</td>\n",
       "      <td>NaN</td>\n",
       "      <td>NaN</td>\n",
       "      <td>-1.000000</td>\n",
       "      <td>NaN</td>\n",
       "      <td>0.000000</td>\n",
       "      <td>0.000000</td>\n",
       "      <td>0.000000</td>\n",
       "      <td>0.000000</td>\n",
       "      <td>0.000000</td>\n",
       "      <td>0.000000</td>\n",
       "      <td>NaN</td>\n",
       "    </tr>\n",
       "    <tr>\n",
       "      <th>25%</th>\n",
       "      <td>4.172614e+12</td>\n",
       "      <td>5.640286e+06</td>\n",
       "      <td>NaN</td>\n",
       "      <td>NaN</td>\n",
       "      <td>NaN</td>\n",
       "      <td>18.000000</td>\n",
       "      <td>NaN</td>\n",
       "      <td>0.000000</td>\n",
       "      <td>0.000000</td>\n",
       "      <td>0.000000</td>\n",
       "      <td>0.000000</td>\n",
       "      <td>0.000000</td>\n",
       "      <td>0.000000</td>\n",
       "      <td>NaN</td>\n",
       "    </tr>\n",
       "    <tr>\n",
       "      <th>50%</th>\n",
       "      <td>3.173184e+13</td>\n",
       "      <td>5.680573e+06</td>\n",
       "      <td>NaN</td>\n",
       "      <td>NaN</td>\n",
       "      <td>NaN</td>\n",
       "      <td>37.000000</td>\n",
       "      <td>NaN</td>\n",
       "      <td>0.000000</td>\n",
       "      <td>0.000000</td>\n",
       "      <td>0.000000</td>\n",
       "      <td>0.000000</td>\n",
       "      <td>0.000000</td>\n",
       "      <td>0.000000</td>\n",
       "      <td>NaN</td>\n",
       "    </tr>\n",
       "    <tr>\n",
       "      <th>75%</th>\n",
       "      <td>9.439172e+13</td>\n",
       "      <td>5.725524e+06</td>\n",
       "      <td>NaN</td>\n",
       "      <td>NaN</td>\n",
       "      <td>NaN</td>\n",
       "      <td>55.000000</td>\n",
       "      <td>NaN</td>\n",
       "      <td>0.000000</td>\n",
       "      <td>0.000000</td>\n",
       "      <td>0.000000</td>\n",
       "      <td>0.000000</td>\n",
       "      <td>0.000000</td>\n",
       "      <td>1.000000</td>\n",
       "      <td>NaN</td>\n",
       "    </tr>\n",
       "    <tr>\n",
       "      <th>max</th>\n",
       "      <td>9.999816e+14</td>\n",
       "      <td>5.790484e+06</td>\n",
       "      <td>NaN</td>\n",
       "      <td>NaN</td>\n",
       "      <td>NaN</td>\n",
       "      <td>115.000000</td>\n",
       "      <td>NaN</td>\n",
       "      <td>1.000000</td>\n",
       "      <td>1.000000</td>\n",
       "      <td>1.000000</td>\n",
       "      <td>1.000000</td>\n",
       "      <td>4.000000</td>\n",
       "      <td>1.000000</td>\n",
       "      <td>NaN</td>\n",
       "    </tr>\n",
       "  </tbody>\n",
       "</table>\n",
       "</div>"
      ],
      "text/plain": [
       "           PatientId  AppointmentID  Gender          ScheduledDay  \\\n",
       "count   1.105270e+05   1.105270e+05  110527                110527   \n",
       "unique           NaN            NaN       2                103549   \n",
       "top              NaN            NaN       F  2016-05-06T07:09:54Z   \n",
       "freq             NaN            NaN   71840                    24   \n",
       "mean    1.474963e+14   5.675305e+06     NaN                   NaN   \n",
       "std     2.560949e+14   7.129575e+04     NaN                   NaN   \n",
       "min     3.921784e+04   5.030230e+06     NaN                   NaN   \n",
       "25%     4.172614e+12   5.640286e+06     NaN                   NaN   \n",
       "50%     3.173184e+13   5.680573e+06     NaN                   NaN   \n",
       "75%     9.439172e+13   5.725524e+06     NaN                   NaN   \n",
       "max     9.999816e+14   5.790484e+06     NaN                   NaN   \n",
       "\n",
       "              AppointmentDay            Age   Neighbourhood    Scholarship  \\\n",
       "count                 110527  110527.000000          110527  110527.000000   \n",
       "unique                    27            NaN              81            NaN   \n",
       "top     2016-06-06T00:00:00Z            NaN  JARDIM CAMBURI            NaN   \n",
       "freq                    4692            NaN            7717            NaN   \n",
       "mean                     NaN      37.088874             NaN       0.098266   \n",
       "std                      NaN      23.110205             NaN       0.297675   \n",
       "min                      NaN      -1.000000             NaN       0.000000   \n",
       "25%                      NaN      18.000000             NaN       0.000000   \n",
       "50%                      NaN      37.000000             NaN       0.000000   \n",
       "75%                      NaN      55.000000             NaN       0.000000   \n",
       "max                      NaN     115.000000             NaN       1.000000   \n",
       "\n",
       "         Hipertension       Diabetes     Alcoholism        Handcap  \\\n",
       "count   110527.000000  110527.000000  110527.000000  110527.000000   \n",
       "unique            NaN            NaN            NaN            NaN   \n",
       "top               NaN            NaN            NaN            NaN   \n",
       "freq              NaN            NaN            NaN            NaN   \n",
       "mean         0.197246       0.071865       0.030400       0.022248   \n",
       "std          0.397921       0.258265       0.171686       0.161543   \n",
       "min          0.000000       0.000000       0.000000       0.000000   \n",
       "25%          0.000000       0.000000       0.000000       0.000000   \n",
       "50%          0.000000       0.000000       0.000000       0.000000   \n",
       "75%          0.000000       0.000000       0.000000       0.000000   \n",
       "max          1.000000       1.000000       1.000000       4.000000   \n",
       "\n",
       "         SMS_received No-show  \n",
       "count   110527.000000  110527  \n",
       "unique            NaN       2  \n",
       "top               NaN      No  \n",
       "freq              NaN   88208  \n",
       "mean         0.321026     NaN  \n",
       "std          0.466873     NaN  \n",
       "min          0.000000     NaN  \n",
       "25%          0.000000     NaN  \n",
       "50%          0.000000     NaN  \n",
       "75%          1.000000     NaN  \n",
       "max          1.000000     NaN  "
      ]
     },
     "execution_count": 8,
     "metadata": {},
     "output_type": "execute_result"
    }
   ],
   "source": [
    "# Show summary for all columns\n",
    "df.describe(include = 'all')\n",
    "\n",
    "# Minimum value for age is -1. This will need to be addressed in the data cleaning section"
   ]
  },
  {
   "cell_type": "code",
   "execution_count": 10,
   "id": "d951b891-3f67-4b10-a6e1-b85c1a521f7f",
   "metadata": {},
   "outputs": [
    {
     "data": {
      "text/plain": [
       "62299"
      ]
     },
     "execution_count": 10,
     "metadata": {},
     "output_type": "execute_result"
    }
   ],
   "source": [
    "# Check for number of unique patients\n",
    "df['PatientId'].nunique()"
   ]
  },
  {
   "cell_type": "code",
   "execution_count": 12,
   "id": "a9686c26-a8ac-4679-b03c-3ca20e19e31f",
   "metadata": {},
   "outputs": [
    {
     "data": {
      "text/plain": [
       "110527"
      ]
     },
     "execution_count": 12,
     "metadata": {},
     "output_type": "execute_result"
    }
   ],
   "source": [
    "# Check for number of unique appointments made\n",
    "df['AppointmentID'].nunique()"
   ]
  },
  {
   "cell_type": "code",
   "execution_count": 14,
   "id": "aae6907e-eb49-4f71-a11c-e8f5421d7819",
   "metadata": {},
   "outputs": [
    {
     "data": {
      "text/plain": [
       "0"
      ]
     },
     "execution_count": 14,
     "metadata": {},
     "output_type": "execute_result"
    }
   ],
   "source": [
    "# Inspect for any duplicate data\n",
    "df.duplicated().sum() #No duplicated rows"
   ]
  },
  {
   "cell_type": "code",
   "execution_count": 16,
   "id": "304ed21e-b16f-47b5-8546-f9eee0beb255",
   "metadata": {},
   "outputs": [
    {
     "data": {
      "text/plain": [
       "PatientId         0\n",
       "AppointmentID     0\n",
       "Gender            0\n",
       "ScheduledDay      0\n",
       "AppointmentDay    0\n",
       "Age               0\n",
       "Neighbourhood     0\n",
       "Scholarship       0\n",
       "Hipertension      0\n",
       "Diabetes          0\n",
       "Alcoholism        0\n",
       "Handcap           0\n",
       "SMS_received      0\n",
       "No-show           0\n",
       "dtype: int64"
      ]
     },
     "execution_count": 16,
     "metadata": {},
     "output_type": "execute_result"
    }
   ],
   "source": [
    "# Inspect for any missing values\n",
    "df.isnull().sum()"
   ]
  },
  {
   "cell_type": "code",
   "execution_count": 18,
   "id": "c54032ff-cfe6-42f0-932c-b958b920070a",
   "metadata": {},
   "outputs": [
    {
     "data": {
      "text/plain": [
       "array([0, 1, 2, 3, 4], dtype=int64)"
      ]
     },
     "execution_count": 18,
     "metadata": {},
     "output_type": "execute_result"
    }
   ],
   "source": [
    "# Investigate values in handicap\n",
    "df.Handcap.unique()\n",
    "# There are multiple values for handicap. \n",
    "# It may be a categorical variable indicating either severity of patient's handicap or the number of handicap a patient has"
   ]
  },
  {
   "cell_type": "code",
   "execution_count": 20,
   "id": "8c6e318f-1a4b-4843-8e27-800b200c1e41",
   "metadata": {},
   "outputs": [
    {
     "data": {
      "text/plain": [
       "Age\n",
       " 0      3539\n",
       " 1      2273\n",
       " 52     1746\n",
       " 49     1652\n",
       " 53     1651\n",
       "        ... \n",
       " 115       5\n",
       " 100       4\n",
       " 102       2\n",
       " 99        1\n",
       "-1         1\n",
       "Name: count, Length: 104, dtype: int64"
      ]
     },
     "execution_count": 20,
     "metadata": {},
     "output_type": "execute_result"
    }
   ],
   "source": [
    "# Investigate values in age\n",
    "df['Age'].value_counts()\n",
    "\n",
    "# Age cannot be -1. This may be a mistake and will be rectified in the data cleaning section"
   ]
  },
  {
   "cell_type": "markdown",
   "id": "0141a147-39a4-45e4-9ac0-1ee2ad8bebb8",
   "metadata": {},
   "source": [
    "### Data Cleaning"
   ]
  },
  {
   "cell_type": "markdown",
   "id": "fc064dab-56b3-4538-a56f-8ad006783029",
   "metadata": {},
   "source": [
    "#### Based on an initial inspection of the data, the following tasks will need to be performed to cleanup the dataset:\n",
    "\n",
    "1. Rename column names as some are misspelled\n",
    "2. Change the variables to correct data types\n",
    "3. Fix the minimum value of age where the min value is -1"
   ]
  },
  {
   "cell_type": "code",
   "execution_count": 24,
   "id": "992f5d4c-2d05-4482-9c7e-026b2ab63973",
   "metadata": {},
   "outputs": [],
   "source": [
    "# Fix spellings for the following columns: 'Hipertension' and 'Handcap'\n",
    "df.rename(columns = {'Hipertension':\"Hypertension\", 'Handcap':'Handicap', 'SMS_received': 'SMS Received'} , inplace=True)"
   ]
  },
  {
   "cell_type": "code",
   "execution_count": 26,
   "id": "f6fa2b98-52c7-4a05-bc7d-fc12876a2882",
   "metadata": {},
   "outputs": [
    {
     "name": "stdout",
     "output_type": "stream",
     "text": [
      "<class 'pandas.core.frame.DataFrame'>\n",
      "RangeIndex: 110527 entries, 0 to 110526\n",
      "Data columns (total 14 columns):\n",
      " #   Column          Non-Null Count   Dtype              \n",
      "---  ------          --------------   -----              \n",
      " 0   PatientId       110527 non-null  float64            \n",
      " 1   AppointmentID   110527 non-null  int64              \n",
      " 2   Gender          110527 non-null  object             \n",
      " 3   ScheduledDay    110527 non-null  datetime64[ns, UTC]\n",
      " 4   AppointmentDay  110527 non-null  datetime64[ns, UTC]\n",
      " 5   Age             110527 non-null  int64              \n",
      " 6   Neighbourhood   110527 non-null  object             \n",
      " 7   Scholarship     110527 non-null  int64              \n",
      " 8   Hypertension    110527 non-null  int64              \n",
      " 9   Diabetes        110527 non-null  int64              \n",
      " 10  Alcoholism      110527 non-null  int64              \n",
      " 11  Handicap        110527 non-null  int64              \n",
      " 12  SMS Received    110527 non-null  int64              \n",
      " 13  No-show         110527 non-null  object             \n",
      "dtypes: datetime64[ns, UTC](2), float64(1), int64(8), object(3)\n",
      "memory usage: 11.8+ MB\n"
     ]
    }
   ],
   "source": [
    "# Change variables to datetime\n",
    "for c in ['ScheduledDay', 'AppointmentDay']:\n",
    "    df[c] = pd.to_datetime(df[c])\n",
    "    \n",
    "df.info()"
   ]
  },
  {
   "cell_type": "code",
   "execution_count": 28,
   "id": "aeb25ffd-3653-47f7-8803-808bccf112d9",
   "metadata": {},
   "outputs": [
    {
     "name": "stdout",
     "output_type": "stream",
     "text": [
      "<class 'pandas.core.frame.DataFrame'>\n",
      "RangeIndex: 110527 entries, 0 to 110526\n",
      "Data columns (total 14 columns):\n",
      " #   Column          Non-Null Count   Dtype              \n",
      "---  ------          --------------   -----              \n",
      " 0   PatientId       110527 non-null  float64            \n",
      " 1   AppointmentID   110527 non-null  int64              \n",
      " 2   Gender          110527 non-null  object             \n",
      " 3   ScheduledDay    110527 non-null  datetime64[ns, UTC]\n",
      " 4   AppointmentDay  110527 non-null  datetime64[ns, UTC]\n",
      " 5   Age             110527 non-null  int64              \n",
      " 6   Neighbourhood   110527 non-null  object             \n",
      " 7   Scholarship     110527 non-null  bool               \n",
      " 8   Hypertension    110527 non-null  bool               \n",
      " 9   Diabetes        110527 non-null  bool               \n",
      " 10  Alcoholism      110527 non-null  bool               \n",
      " 11  Handicap        110527 non-null  int64              \n",
      " 12  SMS Received    110527 non-null  bool               \n",
      " 13  No-show         110527 non-null  object             \n",
      "dtypes: bool(5), datetime64[ns, UTC](2), float64(1), int64(3), object(3)\n",
      "memory usage: 8.1+ MB\n"
     ]
    }
   ],
   "source": [
    "# Change variables to boolean\n",
    "for c in ['Scholarship', 'Hypertension', 'Diabetes', 'Alcoholism', 'SMS Received']:\n",
    "    df[c] = df[c].astype('bool')\n",
    "    \n",
    "df.info()"
   ]
  },
  {
   "cell_type": "code",
   "execution_count": 30,
   "id": "3de1384f-4986-49fb-9ab5-ce02c3baab8c",
   "metadata": {},
   "outputs": [
    {
     "name": "stdout",
     "output_type": "stream",
     "text": [
      "<class 'pandas.core.frame.DataFrame'>\n",
      "RangeIndex: 110527 entries, 0 to 110526\n",
      "Data columns (total 14 columns):\n",
      " #   Column          Non-Null Count   Dtype              \n",
      "---  ------          --------------   -----              \n",
      " 0   PatientId       110527 non-null  float64            \n",
      " 1   AppointmentID   110527 non-null  int64              \n",
      " 2   Gender          110527 non-null  category           \n",
      " 3   ScheduledDay    110527 non-null  datetime64[ns, UTC]\n",
      " 4   AppointmentDay  110527 non-null  datetime64[ns, UTC]\n",
      " 5   Age             110527 non-null  int64              \n",
      " 6   Neighbourhood   110527 non-null  category           \n",
      " 7   Scholarship     110527 non-null  bool               \n",
      " 8   Hypertension    110527 non-null  bool               \n",
      " 9   Diabetes        110527 non-null  bool               \n",
      " 10  Alcoholism      110527 non-null  bool               \n",
      " 11  Handicap        110527 non-null  category           \n",
      " 12  SMS Received    110527 non-null  bool               \n",
      " 13  No-show         110527 non-null  object             \n",
      "dtypes: bool(5), category(3), datetime64[ns, UTC](2), float64(1), int64(2), object(1)\n",
      "memory usage: 5.9+ MB\n"
     ]
    }
   ],
   "source": [
    "# Change variables to categorical\n",
    "for c in ['Gender', 'Neighbourhood', 'Handicap']:\n",
    "    df[c] = df[c].astype('category')\n",
    "\n",
    "df.info()"
   ]
  },
  {
   "cell_type": "code",
   "execution_count": 32,
   "id": "fb713f5d-e37c-4290-b1a9-071c6fe92e94",
   "metadata": {
    "scrolled": true
   },
   "outputs": [
    {
     "name": "stdout",
     "output_type": "stream",
     "text": [
      "<class 'pandas.core.frame.DataFrame'>\n",
      "RangeIndex: 110527 entries, 0 to 110526\n",
      "Data columns (total 14 columns):\n",
      " #   Column          Non-Null Count   Dtype              \n",
      "---  ------          --------------   -----              \n",
      " 0   PatientId       110527 non-null  float64            \n",
      " 1   AppointmentID   110527 non-null  int64              \n",
      " 2   Gender          110527 non-null  category           \n",
      " 3   ScheduledDay    110527 non-null  datetime64[ns, UTC]\n",
      " 4   AppointmentDay  110527 non-null  datetime64[ns, UTC]\n",
      " 5   Age             110527 non-null  int64              \n",
      " 6   Neighbourhood   110527 non-null  category           \n",
      " 7   Scholarship     110527 non-null  bool               \n",
      " 8   Hypertension    110527 non-null  bool               \n",
      " 9   Diabetes        110527 non-null  bool               \n",
      " 10  Alcoholism      110527 non-null  bool               \n",
      " 11  Handicap        110527 non-null  category           \n",
      " 12  SMS Received    110527 non-null  bool               \n",
      " 13  No-show         110527 non-null  bool               \n",
      "dtypes: bool(6), category(3), datetime64[ns, UTC](2), float64(1), int64(2)\n",
      "memory usage: 5.2 MB\n"
     ]
    }
   ],
   "source": [
    "# Change No-show values to boolean values\n",
    "df.loc[df['No-show'] == \"No\", ['No-show']] = 0\n",
    "df.loc[df['No-show'] == \"Yes\", ['No-show']] = 1\n",
    "df['No-show'] = df['No-show'].astype('bool')\n",
    "\n",
    "df.info()"
   ]
  },
  {
   "cell_type": "code",
   "execution_count": 34,
   "id": "0830d749-ab15-4ab3-b12c-f896d5cb3e15",
   "metadata": {},
   "outputs": [
    {
     "data": {
      "text/plain": [
       "Age\n",
       "0      3540\n",
       "1      2273\n",
       "52     1746\n",
       "49     1652\n",
       "53     1651\n",
       "       ... \n",
       "98        6\n",
       "115       5\n",
       "100       4\n",
       "102       2\n",
       "99        1\n",
       "Name: count, Length: 103, dtype: int64"
      ]
     },
     "execution_count": 34,
     "metadata": {},
     "output_type": "execute_result"
    }
   ],
   "source": [
    "# Rectify the \"-1\" in age based on the min value as saw in df.describe row\n",
    "df.loc[df['Age'] == -1, ['Age']] = 0\n",
    "df['Age'].value_counts()"
   ]
  },
  {
   "cell_type": "markdown",
   "id": "99f2ac3b-7039-4ff6-8013-267de52ede9d",
   "metadata": {},
   "source": [
    "## Exploratory Data Analysis"
   ]
  },
  {
   "cell_type": "markdown",
   "id": "547c412b-df5b-4bb7-ae54-767cd4f749c4",
   "metadata": {},
   "source": [
    "### Question 1: How often are appointments missed (i.e., How often is No-Show = True) ? "
   ]
  },
  {
   "cell_type": "code",
   "execution_count": 38,
   "id": "a57d7003-2666-4cff-832e-5c79568efc2a",
   "metadata": {},
   "outputs": [
    {
     "name": "stdout",
     "output_type": "stream",
     "text": [
      "   No-show  count\n",
      "0    False  88208\n",
      "1     True  22319\n",
      "False means patient did show up for their appointment, whereas true means patient was a 'No-show' and did not show up for their appointment\n"
     ]
    }
   ],
   "source": [
    "# Find the counts of values for No-show column\n",
    "noshow_df = df['No-show'].value_counts().reset_index()\n",
    "print(noshow_df)\n",
    "print(\"False means patient did show up for their appointment, whereas true means patient was a 'No-show' and did not show up for their appointment\")"
   ]
  },
  {
   "cell_type": "code",
   "execution_count": 40,
   "id": "3e28e6ab-5cb9-47b9-b593-4dc02fdb2d90",
   "metadata": {},
   "outputs": [
    {
     "data": {
      "text/plain": [
       "0.20193255946510807"
      ]
     },
     "execution_count": 40,
     "metadata": {},
     "output_type": "execute_result"
    }
   ],
   "source": [
    "# Convert the counts into percentages to find % of appointments where patients did not show up\n",
    "noshow = df[df['No-show'] == True]['PatientId'].count()\n",
    "show = df[df['No-show'] == False]['PatientId'].count()\n",
    "noshow_proportion = noshow/(noshow + show)\n",
    "noshow_proportion "
   ]
  },
  {
   "cell_type": "code",
   "execution_count": 42,
   "id": "178c80bc-faaa-44d1-b9ba-b2d0b5c32248",
   "metadata": {},
   "outputs": [
    {
     "name": "stdout",
     "output_type": "stream",
     "text": [
      "\n"
     ]
    },
    {
     "data": {
      "image/png": "[encoded data removed]",
      "text/plain": [
       "<Figure size 640x480 with 1 Axes>"
      ]
     },
     "metadata": {},
     "output_type": "display_data"
    }
   ],
   "source": [
    "# Create pie-chart to visualize the proportion breakdown of patients who showed up for their appointment versus those who did not\n",
    "df['No-show'].value_counts().plot(kind='pie', title = \"No-Show Proportion\", autopct='%1.0f%%')\n",
    "print('')"
   ]
  },
  {
   "cell_type": "markdown",
   "id": "0f2da5d5-d375-412d-a95b-d52ff95763a4",
   "metadata": {},
   "source": [
    "There are 22319 no-shows, which accounts for ~20% of all appointments. Appointments are missed approx. ~20% of the time."
   ]
  },
  {
   "cell_type": "markdown",
   "id": "3620cb28-6feb-450c-bce4-d50f45a0dee3",
   "metadata": {},
   "source": [
    "### Question 2: Is there a difference between male and female not showing up for their appointments?"
   ]
  },
  {
   "cell_type": "code",
   "execution_count": 46,
   "id": "021a0f08-d731-4a75-b699-5a04204bd344",
   "metadata": {},
   "outputs": [
    {
     "name": "stdout",
     "output_type": "stream",
     "text": [
      "\n"
     ]
    },
    {
     "data": {
      "image/png": "[encoded data removed]",
      "text/plain": [
       "<Figure size 640x480 with 1 Axes>"
      ]
     },
     "metadata": {},
     "output_type": "display_data"
    }
   ],
   "source": [
    "# Appointment counts by gender\n",
    "df['Gender'].value_counts().plot(kind='pie', title = \"Appointments by Gender\",  autopct='%1.0f%%')\n",
    "print ('')"
   ]
  },
  {
   "cell_type": "markdown",
   "id": "ad8ccf4e-d2c4-48f6-bb51-13a274324de6",
   "metadata": {},
   "source": [
    "Most appointments are made by Female patients"
   ]
  },
  {
   "cell_type": "code",
   "execution_count": 49,
   "id": "14724e29-78e8-48c8-8239-7f0d0806dcc7",
   "metadata": {},
   "outputs": [
    {
     "name": "stderr",
     "output_type": "stream",
     "text": [
      "C:\\Users\\yijia\\AppData\\Local\\Temp\\ipykernel_5240\\2296930413.py:2: FutureWarning: The default of observed=False is deprecated and will be changed to True in a future version of pandas. Pass observed=False to retain current behavior or observed=True to adopt the future default and silence this warning.\n",
      "  noshow_gender_df = df.groupby(['Gender', 'No-show']).count()['PatientId'].reset_index()\n"
     ]
    },
    {
     "data": {
      "text/html": [
       "<div>\n",
       "<style scoped>\n",
       "    .dataframe tbody tr th:only-of-type {\n",
       "        vertical-align: middle;\n",
       "    }\n",
       "\n",
       "    .dataframe tbody tr th {\n",
       "        vertical-align: top;\n",
       "    }\n",
       "\n",
       "    .dataframe thead th {\n",
       "        text-align: right;\n",
       "    }\n",
       "</style>\n",
       "<table border=\"1\" class=\"dataframe\">\n",
       "  <thead>\n",
       "    <tr style=\"text-align: right;\">\n",
       "      <th></th>\n",
       "      <th>Gender</th>\n",
       "      <th>No-show</th>\n",
       "      <th>Counts</th>\n",
       "    </tr>\n",
       "  </thead>\n",
       "  <tbody>\n",
       "    <tr>\n",
       "      <th>0</th>\n",
       "      <td>F</td>\n",
       "      <td>False</td>\n",
       "      <td>57246</td>\n",
       "    </tr>\n",
       "    <tr>\n",
       "      <th>1</th>\n",
       "      <td>F</td>\n",
       "      <td>True</td>\n",
       "      <td>14594</td>\n",
       "    </tr>\n",
       "    <tr>\n",
       "      <th>2</th>\n",
       "      <td>M</td>\n",
       "      <td>False</td>\n",
       "      <td>30962</td>\n",
       "    </tr>\n",
       "    <tr>\n",
       "      <th>3</th>\n",
       "      <td>M</td>\n",
       "      <td>True</td>\n",
       "      <td>7725</td>\n",
       "    </tr>\n",
       "  </tbody>\n",
       "</table>\n",
       "</div>"
      ],
      "text/plain": [
       "  Gender  No-show  Counts\n",
       "0      F    False   57246\n",
       "1      F     True   14594\n",
       "2      M    False   30962\n",
       "3      M     True    7725"
      ]
     },
     "execution_count": 49,
     "metadata": {},
     "output_type": "execute_result"
    }
   ],
   "source": [
    "# Find the no-shows by gender\n",
    "noshow_gender_df = df.groupby(['Gender', 'No-show']).count()['PatientId'].reset_index()\n",
    "noshow_gender_df.rename(columns = {'PatientId': 'Counts'}, inplace=True)\n",
    "noshow_gender_df"
   ]
  },
  {
   "cell_type": "code",
   "execution_count": 51,
   "id": "be1fde3e-2d4c-471d-a28e-47910ca94d8c",
   "metadata": {},
   "outputs": [
    {
     "name": "stdout",
     "output_type": "stream",
     "text": [
      "\n"
     ]
    },
    {
     "data": {
      "image/png": "[encoded data removed]",
      "text/plain": [
       "<Figure size 640x480 with 1 Axes>"
      ]
     },
     "metadata": {},
     "output_type": "display_data"
    }
   ],
   "source": [
    "# Create double barplot to visualize the no-shows between female and male patients\n",
    "\n",
    "def doublebar_plot(xvar, yvar, ylabelname, titlename, huevar, dataframe):\n",
    "    df_plot = sns.barplot(x = xvar, y = yvar, hue=huevar, data=dataframe)\n",
    "    df_plot.set(ylabel = ylabelname, title = titlename)\n",
    "    return df_plot\n",
    "    \n",
    "doublebar_plot('Gender', 'Counts', 'Counts', 'Counts of No-shows between Male and Female', 'No-show', noshow_gender_df)\n",
    "print('')"
   ]
  },
  {
   "cell_type": "markdown",
   "id": "25b90d83-7297-4a78-87f8-3d75e0d353a8",
   "metadata": {},
   "source": [
    "Visually looking, it appears that female and male counts of no-shows are roughly the same. Will further refine this analysis by getting the percentages of female and male patients no-shows"
   ]
  },
  {
   "cell_type": "code",
   "execution_count": 54,
   "id": "2cf6fef5-b4ef-4234-8377-42eb26718cfa",
   "metadata": {},
   "outputs": [
    {
     "name": "stderr",
     "output_type": "stream",
     "text": [
      "C:\\Users\\yijia\\AppData\\Local\\Temp\\ipykernel_5240\\1348702336.py:4: SettingWithCopyWarning: \n",
      "A value is trying to be set on a copy of a slice from a DataFrame.\n",
      "Try using .loc[row_indexer,col_indexer] = value instead\n",
      "\n",
      "See the caveats in the documentation: https://pandas.pydata.org/pandas-docs/stable/user_guide/indexing.html#returning-a-view-versus-a-copy\n",
      "  female_noshow_df['Proportion'] = female_noshow_df['Counts'] / total_female_noshow #add it back to the main noshow_gender_df table\n"
     ]
    },
    {
     "data": {
      "text/html": [
       "<div>\n",
       "<style scoped>\n",
       "    .dataframe tbody tr th:only-of-type {\n",
       "        vertical-align: middle;\n",
       "    }\n",
       "\n",
       "    .dataframe tbody tr th {\n",
       "        vertical-align: top;\n",
       "    }\n",
       "\n",
       "    .dataframe thead th {\n",
       "        text-align: right;\n",
       "    }\n",
       "</style>\n",
       "<table border=\"1\" class=\"dataframe\">\n",
       "  <thead>\n",
       "    <tr style=\"text-align: right;\">\n",
       "      <th></th>\n",
       "      <th>Gender</th>\n",
       "      <th>No-show</th>\n",
       "      <th>Counts</th>\n",
       "      <th>Proportion</th>\n",
       "    </tr>\n",
       "  </thead>\n",
       "  <tbody>\n",
       "    <tr>\n",
       "      <th>0</th>\n",
       "      <td>F</td>\n",
       "      <td>False</td>\n",
       "      <td>57246</td>\n",
       "      <td>0.796854</td>\n",
       "    </tr>\n",
       "    <tr>\n",
       "      <th>1</th>\n",
       "      <td>F</td>\n",
       "      <td>True</td>\n",
       "      <td>14594</td>\n",
       "      <td>0.203146</td>\n",
       "    </tr>\n",
       "  </tbody>\n",
       "</table>\n",
       "</div>"
      ],
      "text/plain": [
       "  Gender  No-show  Counts  Proportion\n",
       "0      F    False   57246    0.796854\n",
       "1      F     True   14594    0.203146"
      ]
     },
     "execution_count": 54,
     "metadata": {},
     "output_type": "execute_result"
    }
   ],
   "source": [
    "# Find proportion of female no-show\n",
    "female_noshow_df = noshow_gender_df.loc[noshow_gender_df['Gender'] == 'F']\n",
    "total_female_noshow = female_noshow_df['Counts'].sum()\n",
    "female_noshow_df['Proportion'] = female_noshow_df['Counts'] / total_female_noshow #add it back to the main noshow_gender_df table\n",
    "female_noshow_df"
   ]
  },
  {
   "cell_type": "code",
   "execution_count": 56,
   "id": "6d1c6d4d-85e7-494d-a3f0-07132d58920c",
   "metadata": {},
   "outputs": [
    {
     "name": "stderr",
     "output_type": "stream",
     "text": [
      "C:\\Users\\yijia\\AppData\\Local\\Temp\\ipykernel_5240\\1404494994.py:4: SettingWithCopyWarning: \n",
      "A value is trying to be set on a copy of a slice from a DataFrame.\n",
      "Try using .loc[row_indexer,col_indexer] = value instead\n",
      "\n",
      "See the caveats in the documentation: https://pandas.pydata.org/pandas-docs/stable/user_guide/indexing.html#returning-a-view-versus-a-copy\n",
      "  male_noshow_df['Proportion'] = male_noshow_df['Counts'] / total_male_noshow #add it back to the main noshow_gender_df table\n"
     ]
    },
    {
     "data": {
      "text/html": [
       "<div>\n",
       "<style scoped>\n",
       "    .dataframe tbody tr th:only-of-type {\n",
       "        vertical-align: middle;\n",
       "    }\n",
       "\n",
       "    .dataframe tbody tr th {\n",
       "        vertical-align: top;\n",
       "    }\n",
       "\n",
       "    .dataframe thead th {\n",
       "        text-align: right;\n",
       "    }\n",
       "</style>\n",
       "<table border=\"1\" class=\"dataframe\">\n",
       "  <thead>\n",
       "    <tr style=\"text-align: right;\">\n",
       "      <th></th>\n",
       "      <th>Gender</th>\n",
       "      <th>No-show</th>\n",
       "      <th>Counts</th>\n",
       "      <th>Proportion</th>\n",
       "    </tr>\n",
       "  </thead>\n",
       "  <tbody>\n",
       "    <tr>\n",
       "      <th>2</th>\n",
       "      <td>M</td>\n",
       "      <td>False</td>\n",
       "      <td>30962</td>\n",
       "      <td>0.800321</td>\n",
       "    </tr>\n",
       "    <tr>\n",
       "      <th>3</th>\n",
       "      <td>M</td>\n",
       "      <td>True</td>\n",
       "      <td>7725</td>\n",
       "      <td>0.199679</td>\n",
       "    </tr>\n",
       "  </tbody>\n",
       "</table>\n",
       "</div>"
      ],
      "text/plain": [
       "  Gender  No-show  Counts  Proportion\n",
       "2      M    False   30962    0.800321\n",
       "3      M     True    7725    0.199679"
      ]
     },
     "execution_count": 56,
     "metadata": {},
     "output_type": "execute_result"
    }
   ],
   "source": [
    "# Find proportion of male no-show\n",
    "male_noshow_df = noshow_gender_df.loc[noshow_gender_df['Gender'] == 'M']\n",
    "total_male_noshow = male_noshow_df['Counts'].sum()\n",
    "male_noshow_df['Proportion'] = male_noshow_df['Counts'] / total_male_noshow #add it back to the main noshow_gender_df table\n",
    "male_noshow_df"
   ]
  },
  {
   "cell_type": "code",
   "execution_count": 58,
   "id": "29ca0758-cfed-4302-9737-7771bcaa9a51",
   "metadata": {},
   "outputs": [
    {
     "data": {
      "text/html": [
       "<div>\n",
       "<style scoped>\n",
       "    .dataframe tbody tr th:only-of-type {\n",
       "        vertical-align: middle;\n",
       "    }\n",
       "\n",
       "    .dataframe tbody tr th {\n",
       "        vertical-align: top;\n",
       "    }\n",
       "\n",
       "    .dataframe thead th {\n",
       "        text-align: right;\n",
       "    }\n",
       "</style>\n",
       "<table border=\"1\" class=\"dataframe\">\n",
       "  <thead>\n",
       "    <tr style=\"text-align: right;\">\n",
       "      <th></th>\n",
       "      <th>Gender</th>\n",
       "      <th>No-show</th>\n",
       "      <th>Counts</th>\n",
       "      <th>Proportion</th>\n",
       "    </tr>\n",
       "  </thead>\n",
       "  <tbody>\n",
       "    <tr>\n",
       "      <th>2</th>\n",
       "      <td>M</td>\n",
       "      <td>False</td>\n",
       "      <td>30962</td>\n",
       "      <td>0.800321</td>\n",
       "    </tr>\n",
       "    <tr>\n",
       "      <th>3</th>\n",
       "      <td>M</td>\n",
       "      <td>True</td>\n",
       "      <td>7725</td>\n",
       "      <td>0.199679</td>\n",
       "    </tr>\n",
       "    <tr>\n",
       "      <th>0</th>\n",
       "      <td>F</td>\n",
       "      <td>False</td>\n",
       "      <td>57246</td>\n",
       "      <td>0.796854</td>\n",
       "    </tr>\n",
       "    <tr>\n",
       "      <th>1</th>\n",
       "      <td>F</td>\n",
       "      <td>True</td>\n",
       "      <td>14594</td>\n",
       "      <td>0.203146</td>\n",
       "    </tr>\n",
       "  </tbody>\n",
       "</table>\n",
       "</div>"
      ],
      "text/plain": [
       "  Gender  No-show  Counts  Proportion\n",
       "2      M    False   30962    0.800321\n",
       "3      M     True    7725    0.199679\n",
       "0      F    False   57246    0.796854\n",
       "1      F     True   14594    0.203146"
      ]
     },
     "execution_count": 58,
     "metadata": {},
     "output_type": "execute_result"
    }
   ],
   "source": [
    "# Combine the male and female no-show tables together\n",
    "merged_df = pd.concat([male_noshow_df, female_noshow_df])\n",
    "merged_df"
   ]
  },
  {
   "cell_type": "code",
   "execution_count": 60,
   "id": "7a163660-7ba1-405f-87e7-04506d06cdfd",
   "metadata": {},
   "outputs": [
    {
     "name": "stdout",
     "output_type": "stream",
     "text": [
      "\n"
     ]
    },
    {
     "data": {
      "image/png": "[encoded data removed]",
      "text/plain": [
       "<Figure size 640x480 with 1 Axes>"
      ]
     },
     "metadata": {},
     "output_type": "display_data"
    }
   ],
   "source": [
    "# Create double bar graph to visualize the differences in proportion of no-shows between females and males\n",
    "doublebar_plot('Gender', 'Proportion', 'Percentages', 'No-show Proportion by Gender', 'No-show', merged_df)\n",
    "print(\"\")"
   ]
  },
  {
   "cell_type": "markdown",
   "id": "b7419372-1901-4723-97af-e0ffac669b58",
   "metadata": {},
   "source": [
    "Looking at the double bargraph, the proportion of female and male patients' no-shows are roughly the same. There is no significant difference in noshow proportion between female and male patients"
   ]
  },
  {
   "cell_type": "markdown",
   "id": "85e51bb9-b5a3-47b2-9834-a2bf1c8b1f6a",
   "metadata": {},
   "source": [
    "### Question 3: Is there a difference between patients with scholarship versus those without scholarship show up for their appointments?"
   ]
  },
  {
   "cell_type": "code",
   "execution_count": 64,
   "id": "ccc3ae31-b66c-4547-8ff1-0c2690052bfb",
   "metadata": {},
   "outputs": [
    {
     "data": {
      "text/html": [
       "<div>\n",
       "<style scoped>\n",
       "    .dataframe tbody tr th:only-of-type {\n",
       "        vertical-align: middle;\n",
       "    }\n",
       "\n",
       "    .dataframe tbody tr th {\n",
       "        vertical-align: top;\n",
       "    }\n",
       "\n",
       "    .dataframe thead th {\n",
       "        text-align: right;\n",
       "    }\n",
       "</style>\n",
       "<table border=\"1\" class=\"dataframe\">\n",
       "  <thead>\n",
       "    <tr style=\"text-align: right;\">\n",
       "      <th></th>\n",
       "      <th>Scholarship</th>\n",
       "      <th>count</th>\n",
       "    </tr>\n",
       "  </thead>\n",
       "  <tbody>\n",
       "    <tr>\n",
       "      <th>0</th>\n",
       "      <td>False</td>\n",
       "      <td>99666</td>\n",
       "    </tr>\n",
       "    <tr>\n",
       "      <th>1</th>\n",
       "      <td>True</td>\n",
       "      <td>10861</td>\n",
       "    </tr>\n",
       "  </tbody>\n",
       "</table>\n",
       "</div>"
      ],
      "text/plain": [
       "   Scholarship  count\n",
       "0        False  99666\n",
       "1         True  10861"
      ]
     },
     "execution_count": 64,
     "metadata": {},
     "output_type": "execute_result"
    }
   ],
   "source": [
    "# Appointment counts by scholarship\n",
    "scholarship_df = df['Scholarship'].value_counts().reset_index()\n",
    "scholarship_df"
   ]
  },
  {
   "cell_type": "code",
   "execution_count": 66,
   "id": "202b3ea9-b2fb-4ca8-8541-6a8836de1733",
   "metadata": {},
   "outputs": [
    {
     "data": {
      "text/html": [
       "<div>\n",
       "<style scoped>\n",
       "    .dataframe tbody tr th:only-of-type {\n",
       "        vertical-align: middle;\n",
       "    }\n",
       "\n",
       "    .dataframe tbody tr th {\n",
       "        vertical-align: top;\n",
       "    }\n",
       "\n",
       "    .dataframe thead th {\n",
       "        text-align: right;\n",
       "    }\n",
       "</style>\n",
       "<table border=\"1\" class=\"dataframe\">\n",
       "  <thead>\n",
       "    <tr style=\"text-align: right;\">\n",
       "      <th></th>\n",
       "      <th>Scholarship</th>\n",
       "      <th>No-show</th>\n",
       "      <th>Counts</th>\n",
       "    </tr>\n",
       "  </thead>\n",
       "  <tbody>\n",
       "    <tr>\n",
       "      <th>0</th>\n",
       "      <td>False</td>\n",
       "      <td>False</td>\n",
       "      <td>79925</td>\n",
       "    </tr>\n",
       "    <tr>\n",
       "      <th>1</th>\n",
       "      <td>False</td>\n",
       "      <td>True</td>\n",
       "      <td>19741</td>\n",
       "    </tr>\n",
       "    <tr>\n",
       "      <th>2</th>\n",
       "      <td>True</td>\n",
       "      <td>False</td>\n",
       "      <td>8283</td>\n",
       "    </tr>\n",
       "    <tr>\n",
       "      <th>3</th>\n",
       "      <td>True</td>\n",
       "      <td>True</td>\n",
       "      <td>2578</td>\n",
       "    </tr>\n",
       "  </tbody>\n",
       "</table>\n",
       "</div>"
      ],
      "text/plain": [
       "   Scholarship  No-show  Counts\n",
       "0        False    False   79925\n",
       "1        False     True   19741\n",
       "2         True    False    8283\n",
       "3         True     True    2578"
      ]
     },
     "execution_count": 66,
     "metadata": {},
     "output_type": "execute_result"
    }
   ],
   "source": [
    "# Find the no-shows by scholarship\n",
    "noshow_scholarship_df = df.groupby(['Scholarship', 'No-show']).count()['PatientId'].reset_index()\n",
    "noshow_scholarship_df.rename(columns = {'PatientId': 'Counts'}, inplace=True)\n",
    "noshow_scholarship_df"
   ]
  },
  {
   "cell_type": "code",
   "execution_count": 68,
   "id": "58fd463e-cf62-495e-9755-fde23e34e2d7",
   "metadata": {},
   "outputs": [
    {
     "name": "stdout",
     "output_type": "stream",
     "text": [
      "\n"
     ]
    },
    {
     "data": {
      "image/png": "[encoded data removed]",
      "text/plain": [
       "<Figure size 640x480 with 1 Axes>"
      ]
     },
     "metadata": {},
     "output_type": "display_data"
    }
   ],
   "source": [
    "# Create double barplot to visualize the no-shows between patients with scholarship and those without scholarship\n",
    "doublebar_plot('Scholarship', 'Counts', 'Counts', 'Counts of No-shows between Patients with Scholarship and without Scholarship', \n",
    "               'No-show', noshow_scholarship_df)\n",
    "print('')"
   ]
  },
  {
   "cell_type": "markdown",
   "id": "93a462f3-cb69-45af-b90f-4630f98d3a97",
   "metadata": {},
   "source": [
    "Visually looking, it appears that patients with scholarship and without scholarship did not show up for their appoitment about the same ratio. Will further refine this analysis by finding the proportional relationship."
   ]
  },
  {
   "cell_type": "code",
   "execution_count": 71,
   "id": "c4b542a2-e46d-43b4-a47d-edfc145dbc2e",
   "metadata": {},
   "outputs": [
    {
     "name": "stderr",
     "output_type": "stream",
     "text": [
      "C:\\Users\\yijia\\AppData\\Local\\Temp\\ipykernel_5240\\601576894.py:4: SettingWithCopyWarning: \n",
      "A value is trying to be set on a copy of a slice from a DataFrame.\n",
      "Try using .loc[row_indexer,col_indexer] = value instead\n",
      "\n",
      "See the caveats in the documentation: https://pandas.pydata.org/pandas-docs/stable/user_guide/indexing.html#returning-a-view-versus-a-copy\n",
      "  scholarship_noshow_df['Proportion'] = scholarship_noshow_df['Counts'] / total_scholarship_noshow #add it back to the main noshow_gender_df table\n"
     ]
    },
    {
     "data": {
      "text/html": [
       "<div>\n",
       "<style scoped>\n",
       "    .dataframe tbody tr th:only-of-type {\n",
       "        vertical-align: middle;\n",
       "    }\n",
       "\n",
       "    .dataframe tbody tr th {\n",
       "        vertical-align: top;\n",
       "    }\n",
       "\n",
       "    .dataframe thead th {\n",
       "        text-align: right;\n",
       "    }\n",
       "</style>\n",
       "<table border=\"1\" class=\"dataframe\">\n",
       "  <thead>\n",
       "    <tr style=\"text-align: right;\">\n",
       "      <th></th>\n",
       "      <th>Scholarship</th>\n",
       "      <th>No-show</th>\n",
       "      <th>Counts</th>\n",
       "      <th>Proportion</th>\n",
       "    </tr>\n",
       "  </thead>\n",
       "  <tbody>\n",
       "    <tr>\n",
       "      <th>2</th>\n",
       "      <td>True</td>\n",
       "      <td>False</td>\n",
       "      <td>8283</td>\n",
       "      <td>0.762637</td>\n",
       "    </tr>\n",
       "    <tr>\n",
       "      <th>3</th>\n",
       "      <td>True</td>\n",
       "      <td>True</td>\n",
       "      <td>2578</td>\n",
       "      <td>0.237363</td>\n",
       "    </tr>\n",
       "  </tbody>\n",
       "</table>\n",
       "</div>"
      ],
      "text/plain": [
       "   Scholarship  No-show  Counts  Proportion\n",
       "2         True    False    8283    0.762637\n",
       "3         True     True    2578    0.237363"
      ]
     },
     "execution_count": 71,
     "metadata": {},
     "output_type": "execute_result"
    }
   ],
   "source": [
    "# Find proportion of patients with scholarship no-show\n",
    "scholarship_noshow_df = noshow_scholarship_df.loc[noshow_scholarship_df['Scholarship'] == True]\n",
    "total_scholarship_noshow = scholarship_noshow_df['Counts'].sum()\n",
    "scholarship_noshow_df['Proportion'] = scholarship_noshow_df['Counts'] / total_scholarship_noshow #add it back to the main noshow_gender_df table\n",
    "scholarship_noshow_df"
   ]
  },
  {
   "cell_type": "code",
   "execution_count": 73,
   "id": "9e323afe-f7df-4051-86cc-29d57fb42385",
   "metadata": {},
   "outputs": [
    {
     "name": "stderr",
     "output_type": "stream",
     "text": [
      "C:\\Users\\yijia\\AppData\\Local\\Temp\\ipykernel_5240\\1309629400.py:4: SettingWithCopyWarning: \n",
      "A value is trying to be set on a copy of a slice from a DataFrame.\n",
      "Try using .loc[row_indexer,col_indexer] = value instead\n",
      "\n",
      "See the caveats in the documentation: https://pandas.pydata.org/pandas-docs/stable/user_guide/indexing.html#returning-a-view-versus-a-copy\n",
      "  no_scholarship_noshow_df['Proportion'] = no_scholarship_noshow_df['Counts'] / total_no_scholarship_noshow #add it back to the main noshow_gender_df table\n"
     ]
    },
    {
     "data": {
      "text/html": [
       "<div>\n",
       "<style scoped>\n",
       "    .dataframe tbody tr th:only-of-type {\n",
       "        vertical-align: middle;\n",
       "    }\n",
       "\n",
       "    .dataframe tbody tr th {\n",
       "        vertical-align: top;\n",
       "    }\n",
       "\n",
       "    .dataframe thead th {\n",
       "        text-align: right;\n",
       "    }\n",
       "</style>\n",
       "<table border=\"1\" class=\"dataframe\">\n",
       "  <thead>\n",
       "    <tr style=\"text-align: right;\">\n",
       "      <th></th>\n",
       "      <th>Scholarship</th>\n",
       "      <th>No-show</th>\n",
       "      <th>Counts</th>\n",
       "      <th>Proportion</th>\n",
       "    </tr>\n",
       "  </thead>\n",
       "  <tbody>\n",
       "    <tr>\n",
       "      <th>0</th>\n",
       "      <td>False</td>\n",
       "      <td>False</td>\n",
       "      <td>79925</td>\n",
       "      <td>0.801928</td>\n",
       "    </tr>\n",
       "    <tr>\n",
       "      <th>1</th>\n",
       "      <td>False</td>\n",
       "      <td>True</td>\n",
       "      <td>19741</td>\n",
       "      <td>0.198072</td>\n",
       "    </tr>\n",
       "  </tbody>\n",
       "</table>\n",
       "</div>"
      ],
      "text/plain": [
       "   Scholarship  No-show  Counts  Proportion\n",
       "0        False    False   79925    0.801928\n",
       "1        False     True   19741    0.198072"
      ]
     },
     "execution_count": 73,
     "metadata": {},
     "output_type": "execute_result"
    }
   ],
   "source": [
    "# Find proportion of patients with without scholarship no-show\n",
    "no_scholarship_noshow_df = noshow_scholarship_df.loc[noshow_scholarship_df['Scholarship'] == False]\n",
    "total_no_scholarship_noshow = no_scholarship_noshow_df['Counts'].sum()\n",
    "no_scholarship_noshow_df['Proportion'] = no_scholarship_noshow_df['Counts'] / total_no_scholarship_noshow #add it back to the main noshow_gender_df table\n",
    "no_scholarship_noshow_df"
   ]
  },
  {
   "cell_type": "code",
   "execution_count": 75,
   "id": "2e506279-c9b8-40de-8f6f-f4ad8e0f8aa1",
   "metadata": {},
   "outputs": [
    {
     "data": {
      "text/html": [
       "<div>\n",
       "<style scoped>\n",
       "    .dataframe tbody tr th:only-of-type {\n",
       "        vertical-align: middle;\n",
       "    }\n",
       "\n",
       "    .dataframe tbody tr th {\n",
       "        vertical-align: top;\n",
       "    }\n",
       "\n",
       "    .dataframe thead th {\n",
       "        text-align: right;\n",
       "    }\n",
       "</style>\n",
       "<table border=\"1\" class=\"dataframe\">\n",
       "  <thead>\n",
       "    <tr style=\"text-align: right;\">\n",
       "      <th></th>\n",
       "      <th>Scholarship</th>\n",
       "      <th>No-show</th>\n",
       "      <th>Counts</th>\n",
       "      <th>Proportion</th>\n",
       "    </tr>\n",
       "  </thead>\n",
       "  <tbody>\n",
       "    <tr>\n",
       "      <th>2</th>\n",
       "      <td>True</td>\n",
       "      <td>False</td>\n",
       "      <td>8283</td>\n",
       "      <td>0.762637</td>\n",
       "    </tr>\n",
       "    <tr>\n",
       "      <th>3</th>\n",
       "      <td>True</td>\n",
       "      <td>True</td>\n",
       "      <td>2578</td>\n",
       "      <td>0.237363</td>\n",
       "    </tr>\n",
       "    <tr>\n",
       "      <th>0</th>\n",
       "      <td>False</td>\n",
       "      <td>False</td>\n",
       "      <td>79925</td>\n",
       "      <td>0.801928</td>\n",
       "    </tr>\n",
       "    <tr>\n",
       "      <th>1</th>\n",
       "      <td>False</td>\n",
       "      <td>True</td>\n",
       "      <td>19741</td>\n",
       "      <td>0.198072</td>\n",
       "    </tr>\n",
       "  </tbody>\n",
       "</table>\n",
       "</div>"
      ],
      "text/plain": [
       "   Scholarship  No-show  Counts  Proportion\n",
       "2         True    False    8283    0.762637\n",
       "3         True     True    2578    0.237363\n",
       "0        False    False   79925    0.801928\n",
       "1        False     True   19741    0.198072"
      ]
     },
     "execution_count": 75,
     "metadata": {},
     "output_type": "execute_result"
    }
   ],
   "source": [
    "# Combine the scholarship and without no-show tables together\n",
    "merged_df_scholarship = pd.concat([scholarship_noshow_df, no_scholarship_noshow_df])\n",
    "merged_df_scholarship"
   ]
  },
  {
   "cell_type": "code",
   "execution_count": 77,
   "id": "a27e8b62-71b9-4fc8-8184-439490301462",
   "metadata": {},
   "outputs": [
    {
     "name": "stdout",
     "output_type": "stream",
     "text": [
      "\n"
     ]
    },
    {
     "data": {
      "image/png": "[encoded data removed]",
      "text/plain": [
       "<Figure size 640x480 with 1 Axes>"
      ]
     },
     "metadata": {},
     "output_type": "display_data"
    }
   ],
   "source": [
    "# Create double barplot to visualize the no-shows between patients with scholarship and those without scholarship\n",
    "doublebar_plot('Scholarship', 'Proportion', 'Percentages', 'No-show Proportion by Scholarship', \n",
    "               'No-show', merged_df_scholarship)\n",
    "print('')"
   ]
  },
  {
   "cell_type": "markdown",
   "id": "33505055-dcbb-44fd-81ec-bba505a3bf48",
   "metadata": {},
   "source": [
    "It appears that the percentage of people with scholarship showed up to their appointment is higher than patients without scholarship. However the percentage difference is not that big looking at the visual. Additional investigation/hypothesis testing will be needed to determine if the percent difference is significant or not."
   ]
  },
  {
   "cell_type": "markdown",
   "id": "c60fbd9e-b5dd-4c8f-b539-b947ce7059cf",
   "metadata": {},
   "source": [
    "## Conclusion"
   ]
  },
  {
   "cell_type": "markdown",
   "id": "2e697adb-c7a8-430b-954d-f9c262aee8d6",
   "metadata": {},
   "source": [
    "#### Question 1: How often are appointments missed (i.e., How often is No-Show = True) ?"
   ]
  },
  {
   "cell_type": "markdown",
   "id": "8ae3a3dd-7562-4afb-8bb7-1d34c931c673",
   "metadata": {},
   "source": [
    "Appointments are missed approximately 20% of the time. "
   ]
  },
  {
   "cell_type": "markdown",
   "id": "4cf6dcc0-7240-4136-b10f-5749629c9a9a",
   "metadata": {},
   "source": [
    "#### Question 2: Is there a difference between male and female not showing up for their appointments?"
   ]
  },
  {
   "cell_type": "markdown",
   "id": "e09427aa-48b7-4f8b-aede-3e7c79154700",
   "metadata": {},
   "source": [
    "No, there is no difference between male and female patients not showing up for their appointments"
   ]
  },
  {
   "cell_type": "markdown",
   "id": "53a3e839-c9d6-4f4a-be41-833530587fb5",
   "metadata": {},
   "source": [
    "### Question 3: Is there a difference between patients with scholarship versus those without scholarship show up for their appointments?"
   ]
  },
  {
   "cell_type": "markdown",
   "id": "cd891fe5-9cf9-4065-8b06-8283991c3b27",
   "metadata": {},
   "source": [
    "It appears that the percentage of people with scholarship showed up to their appointment is higher than patients without scholarship. However the percentage difference is not that big looking at the visual. Additional investigation/hypothesis testing will be needed to determine if the percent difference is significant or not."
   ]
  },
  {
   "cell_type": "markdown",
   "id": "ec25fc19-da80-4a46-97d7-fffeb356e673",
   "metadata": {},
   "source": [
    "#### Additional Research That Could Be Performed"
   ]
  },
  {
   "cell_type": "markdown",
   "id": "e6819140-4649-43a0-8f02-ed16ce9eae93",
   "metadata": {},
   "source": [
    "Additional research that could be performed on the dataset are the following:\n",
    "\n",
    "* Identify if different ailments (i.e., whether a patient has hypertension, handicaped, Diabetes, or alcoholism) indicate whether patients are more likely to show having an ailment versus not\n",
    "* Identify whether a patient that received a SMS message is more likely to show up for their appointment or not\n",
    "* Identify if whether different groups of patients show up less likely / more likely for their appointments (i.e., patients with scholarship, patients using different neighborhood locations, age, etc.)"
   ]
  },
  {
   "cell_type": "markdown",
   "id": "07f6c2c8-7fc1-46c9-9eb4-87796153a476",
   "metadata": {},
   "source": [
    "#### Limitations"
   ]
  },
  {
   "cell_type": "markdown",
   "id": "8c564930-7b4a-4d63-871f-04ac8289bce4",
   "metadata": {},
   "source": [
    "The limitations for this dataset are the following:\n",
    "\n",
    "* Patients' likelihood of showing up for their appointment could be impacted by whether they have single ailment, multiple ailment, or none. It will be helpful to know if patient's appointment is due to 1 of their ailment or multiple. If it is multiple, it may impact the likelihood of patients showing up for their appointment versus thsoe with either no ailment or only 1. \n",
    "* There are only 62299 unique patients, but ~110K appointments created. Some patients may have created multiple appointments. As for the cause of those are unknown. Patients may have accidently created multiple appointments, or patients may have a legitimate reason that may require multiple appointments. Accidental appointments created could be removed from the dataset as it may impact some of the findings."
   ]
  },
  {
   "cell_type": "code",
   "execution_count": 91,
   "id": "242c2b06-334d-4e7f-a2d0-45190638f223",
   "metadata": {},
   "outputs": [
    {
     "name": "stderr",
     "output_type": "stream",
     "text": [
      "[NbConvertApp] Converting notebook Investigate_a_Dataset.ipynb to html\n",
      "[NbConvertApp] WARNING | Alternative text is missing on 6 image(s).\n",
      "[NbConvertApp] Writing 532238 bytes to Investigate_a_Dataset.html\n"
     ]
    }
   ],
   "source": [
    "# Running this cell will execute a bash command to convert this notebook to an .html file\n",
    "!python -m nbconvert --to html Investigate_a_Dataset.ipynb"
   ]
  }
 ],
 "metadata": {
  "kernelspec": {
   "display_name": "Python 3 (ipykernel)",
   "language": "python",
   "name": "python3"
  },
  "language_info": {
   "codemirror_mode": {
    "name": "ipython",
    "version": 3
   },
   "file_extension": ".py",
   "mimetype": "text/x-python",
   "name": "python",
   "nbconvert_exporter": "python",
   "pygments_lexer": "ipython3",
   "version": "3.12.4"
  }
 },
 "nbformat": 4,
 "nbformat_minor": 5
}
